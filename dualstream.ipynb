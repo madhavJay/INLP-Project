{
  "cells": [
    {
      "cell_type": "markdown",
      "metadata": {
        "id": "intro"
      },
      "source": [
        "# Dual-Branch Hybrid Model for Stock Trend Prediction\n",
        "\n",
        "This notebook implements a dual-branch deep learning model that integrates textual and financial data with several improvements:\n",
        "\n",
        "- **Financial Branch:** Replaces the LSTM with a Temporal Convolutional Network (TCN) to capture long-range dependencies.\n",
        "- **Dynamic Windows:** The financial branch now uses adaptive window sizes based on recent volatility.\n",
        "- **Improved Sentiment Aggregation:** Instead of simple averaging, news sentiments are aggregated using weighted averaging (with more recent articles receiving higher weight).\n",
        "\n",
        "The dataset is split based on time (earliest 80% as training and the most recent 20% as testing), and evaluation metrics (MSE, RMSE, MAPE, Spearman correlation) and plots are produced."
      ]
    },
    {
      "cell_type": "code",
      "execution_count": 1,
      "metadata": {
        "colab": {
          "base_uri": "https://localhost:8080/"
        },
        "id": "imports-device",
        "outputId": "b3d03670-fc4b-4680-c70f-c5a0d33b60a0"
      },
      "outputs": [
        {
          "name": "stderr",
          "output_type": "stream",
          "text": [
            "/home/akshat/miniconda3/envs/cvproj/lib/python3.13/site-packages/tqdm/auto.py:21: TqdmWarning: IProgress not found. Please update jupyter and ipywidgets. See https://ipywidgets.readthedocs.io/en/stable/user_install.html\n",
            "  from .autonotebook import tqdm as notebook_tqdm\n"
          ]
        },
        {
          "name": "stdout",
          "output_type": "stream",
          "text": [
            "Using device: cuda\n"
          ]
        }
      ],
      "source": [
        "import pandas as pd\n",
        "import numpy as np\n",
        "import matplotlib.pyplot as plt\n",
        "import torch\n",
        "import torch.nn as nn\n",
        "import torch.optim as optim\n",
        "from torch.utils.data import Dataset, DataLoader\n",
        "from transformers import AutoTokenizer, AutoModel, pipeline\n",
        "from tqdm import tqdm\n",
        "from sklearn.preprocessing import StandardScaler\n",
        "from sklearn.metrics import mean_squared_error, mean_absolute_error\n",
        "from scipy.stats import spearmanr\n",
        "\n",
        "device = torch.device(\"cuda\" if torch.cuda.is_available() else \"cpu\")\n",
        "print(\"Using device:\", device)"
      ]
    },
    {
      "cell_type": "markdown",
      "metadata": {
        "id": "load-data"
      },
      "source": [
        "## 1. Load Financial and News Data\n",
        "\n",
        "Load the stock data from `upload_DJIA_table.csv` and news data from `RedditNews.csv`. For the text branch, we later aggregate the individual news articles per date using weighted aggregation."
      ]
    },
    {
      "cell_type": "code",
      "execution_count": 2,
      "metadata": {
        "colab": {
          "base_uri": "https://localhost:8080/"
        },
        "id": "load-stock-news",
        "outputId": "e6e5db95-8ec1-4f9f-bae5-1a9fe48a8b44"
      },
      "outputs": [
        {
          "name": "stdout",
          "output_type": "stream",
          "text": [
            "Stock data sample:\n",
            "                    Open          High           Low         Close     Volume  \\\n",
            "Date                                                                            \n",
            "2008-08-08  11432.089844  11759.959961  11388.040039  11734.320312  212830000   \n",
            "2008-08-11  11729.669922  11867.110352  11675.530273  11782.349609  183190000   \n",
            "2008-08-12  11781.700195  11782.349609  11601.519531  11642.469727  173590000   \n",
            "2008-08-13  11632.809570  11633.780273  11453.339844  11532.959961  182550000   \n",
            "2008-08-14  11532.070312  11718.280273  11450.889648  11615.929688  159790000   \n",
            "\n",
            "               Adj Close  \n",
            "Date                      \n",
            "2008-08-08  11734.320312  \n",
            "2008-08-11  11782.349609  \n",
            "2008-08-12  11642.469727  \n",
            "2008-08-13  11532.959961  \n",
            "2008-08-14  11615.929688  \n",
            "News data sample:\n",
            "        Date                                               News\n",
            "0 2016-07-01  A 117-year-old woman in Mexico City finally re...\n",
            "1 2016-07-01   IMF chief backs Athens as permanent Olympic host\n",
            "2 2016-07-01  The president of France says if Brexit won, so...\n",
            "3 2016-07-01  British Man Who Must Give Police 24 Hours' Not...\n",
            "4 2016-07-01  100+ Nobel laureates urge Greenpeace to stop o...\n"
          ]
        }
      ],
      "source": [
        "# Load financial data\n",
        "stock_df = pd.read_csv('upload_DJIA_table.csv', parse_dates=['Date'])\n",
        "stock_df.sort_values('Date', inplace=True)\n",
        "stock_df.set_index('Date', inplace=True)\n",
        "\n",
        "# Load news data\n",
        "news_df = pd.read_csv('RedditNews.csv', parse_dates=['Date'])\n",
        "\n",
        "print(\"Stock data sample:\")\n",
        "print(stock_df.head())\n",
        "\n",
        "print(\"News data sample:\")\n",
        "print(news_df.head())"
      ]
    },
    {
      "cell_type": "markdown",
      "metadata": {
        "id": "sentiment-aggregation"
      },
      "source": [
        "## 2. Weighted Sentiment Aggregation\n",
        "\n",
        "We use FinBERT’s sentiment-analysis pipeline to extract sentiment scores (positive, negative, neutral) for each news article. Instead of a simple average per date, we apply weighted averaging where later (more recent) articles receive a higher weight. Here we assume that the news articles are ordered by time (within each date)."
      ]
    },
    {
      "cell_type": "code",
      "execution_count": 3,
      "metadata": {
        "colab": {
          "base_uri": "https://localhost:8080/",
          "height": 477,
          "referenced_widgets": [
            "ece37d07f42f48549a3e78677cefafdb",
            "f42f88922965439ea110ffe0ee92b4a1",
            "384efe0ac8de4e18b7a3aa944a68065d",
            "c0518428be1446c09374906751dee668",
            "2bfc3733f7e1409aa4a2e24dde57d475",
            "135fa4a9fca24f85992af547756a9b73",
            "f8ce9b4b816542999f125f12a97d2943",
            "43c2e18f846247a99dd016686bdd2cb2",
            "0e2fbf047fd2444ba6d6aafd10c04bc1",
            "312f09977df84405948a44b26162272c",
            "d486b54166e448438f6262552a39437f",
            "cd7031a2c5b041d9b82c6a98b9f34864",
            "0d07eb7e9a0447b1ae2e013b96f67489",
            "a5e2f3be41ba4103972a38f6c7ce3f59",
            "37f847eb0bd64ec3a60f121c546f82c2",
            "1b2df519d82146a09c95244e56c6d91a",
            "8ff977d185e044eb9f1662226fe49440",
            "83fb3a449a604c2ea8c959803f3523aa",
            "305d843dda954a568adb374765f33e64",
            "b66c702e737f4d8ba325af68f4feb60d",
            "0d4504aa444646dd935de6b811edeeba",
            "12ea49dfc06a431ba6b40250066a97c9",
            "b1b74bdc3d27470fb6f7af342fd68b89",
            "b10030df59c245ee9f93942b5c6cec17",
            "89078e71c9d9417fbe623527c3f85152",
            "2de332926ea546bba2232a3cec2814d6",
            "e89093ef68704eabab26a9f044833d30",
            "d444a0b7bf1949fa85a31187b7c15481",
            "c5a6111a7aa849b18075f3d8de64760d",
            "bcb02c8287f944b7af4579670ced217a",
            "ce33ebece1644733b617dcdcb58cb3c5",
            "3e3f34df677547db97d4d12bd2616e33",
            "f40bf7196559442883720c371f564f70",
            "9dcfa06792d34f7692bb812f5d3307db",
            "c743545e7a794152b98f2b5a8973e0a4",
            "6b414c59ef564cdfade5ed54a37863c0",
            "c446e3d5001f40da8b2ecf5868229450",
            "df899564e05d4c0c969ec926eb3139b6",
            "0cacfa975ca24088953f27449c8cc154",
            "c97525b09b194cf2be257f417a0140e0",
            "58c88a105ed4423fb8c34a8663121fa3",
            "131111b6ccae4ac6aa854657c2e1d8a3",
            "9647ba73fb0e4026a51a6ecc1a057537",
            "a9b30577ff8844f49876c5dee6e4fbbc"
          ]
        },
        "id": "weighted-sentiment",
        "outputId": "a07dae8a-ef53-4ec0-cc81-c268b36e57b1"
      },
      "outputs": [
        {
          "name": "stderr",
          "output_type": "stream",
          "text": [
            "/usr/local/lib/python3.11/dist-packages/huggingface_hub/utils/_auth.py:94: UserWarning: \n",
            "The secret `HF_TOKEN` does not exist in your Colab secrets.\n",
            "To authenticate with the Hugging Face Hub, create a token in your settings tab (https://huggingface.co/settings/tokens), set it as secret in your Google Colab and restart your session.\n",
            "You will be able to reuse this secret in all of your notebooks.\n",
            "Please note that authentication is recommended but still optional to access public models or datasets.\n",
            "  warnings.warn(\n"
          ]
        },
        {
          "data": {
            "application/vnd.jupyter.widget-view+json": {
              "model_id": "ece37d07f42f48549a3e78677cefafdb",
              "version_major": 2,
              "version_minor": 0
            },
            "text/plain": [
              "config.json:   0%|          | 0.00/533 [00:00<?, ?B/s]"
            ]
          },
          "metadata": {},
          "output_type": "display_data"
        },
        {
          "data": {
            "application/vnd.jupyter.widget-view+json": {
              "model_id": "cd7031a2c5b041d9b82c6a98b9f34864",
              "version_major": 2,
              "version_minor": 0
            },
            "text/plain": [
              "pytorch_model.bin:   0%|          | 0.00/439M [00:00<?, ?B/s]"
            ]
          },
          "metadata": {},
          "output_type": "display_data"
        },
        {
          "data": {
            "application/vnd.jupyter.widget-view+json": {
              "model_id": "b1b74bdc3d27470fb6f7af342fd68b89",
              "version_major": 2,
              "version_minor": 0
            },
            "text/plain": [
              "vocab.txt:   0%|          | 0.00/226k [00:00<?, ?B/s]"
            ]
          },
          "metadata": {},
          "output_type": "display_data"
        },
        {
          "data": {
            "application/vnd.jupyter.widget-view+json": {
              "model_id": "9dcfa06792d34f7692bb812f5d3307db",
              "version_major": 2,
              "version_minor": 0
            },
            "text/plain": [
              "model.safetensors:   0%|          | 0.00/439M [00:00<?, ?B/s]"
            ]
          },
          "metadata": {},
          "output_type": "display_data"
        },
        {
          "name": "stderr",
          "output_type": "stream",
          "text": [
            "Device set to use cuda:0\n",
            "You seem to be using the pipelines sequentially on GPU. In order to maximize efficiency please use a dataset\n"
          ]
        },
        {
          "name": "stdout",
          "output_type": "stream",
          "text": [
            "Weighted Sentiment Scores Sample:\n",
            "             level_1         0\n",
            "Date                          \n",
            "2008-06-08   neutral  0.760841\n",
            "2008-06-08  negative  0.235766\n",
            "2008-06-08  positive  0.003392\n",
            "2008-06-09   neutral  0.800025\n",
            "2008-06-09  negative  0.162891\n"
          ]
        },
        {
          "name": "stderr",
          "output_type": "stream",
          "text": [
            "<ipython-input-3-eee5cb214b34>:32: DeprecationWarning: DataFrameGroupBy.apply operated on the grouping columns. This behavior is deprecated, and in a future version of pandas the grouping columns will be excluded from the operation. Either pass `include_groups=False` to exclude the groupings or explicitly select the grouping columns after groupby to silence this warning.\n",
            "  news_weighted = news_df.groupby('Date').apply(weighted_average_sentiment).reset_index()\n"
          ]
        }
      ],
      "source": [
        "# Initialize FinBERT sentiment-analysis pipeline\n",
        "sentiment_pipeline = pipeline(\n",
        "    \"sentiment-analysis\",\n",
        "    model=\"yiyanghkust/finbert-tone\",\n",
        "    tokenizer=\"yiyanghkust/finbert-tone\",\n",
        "    top_k=None,\n",
        "    device=0 if torch.cuda.is_available() else -1\n",
        ")\n",
        "\n",
        "def get_sentiment_scores(text):\n",
        "    results = sentiment_pipeline(text)\n",
        "    # results is a list containing a list of dicts with sentiment scores\n",
        "    scores = {d['label'].lower(): d['score'] for d in results[0]}\n",
        "    for key in ['positive', 'negative', 'neutral']:\n",
        "        scores.setdefault(key, 0.0)\n",
        "    return scores\n",
        "\n",
        "# Compute weighted sentiment for each date\n",
        "def weighted_average_sentiment(group):\n",
        "    sentiments = []\n",
        "    n = len(group)\n",
        "    # Use linear weights: later articles get higher weight\n",
        "    weights = np.linspace(1, 2, n)\n",
        "    for idx, row in group.iterrows():\n",
        "        score = get_sentiment_scores(row['News'])\n",
        "        sentiments.append(score)\n",
        "    df_sent = pd.DataFrame(sentiments)\n",
        "    weighted_avg = (df_sent.multiply(weights, axis=0)).sum() / weights.sum()\n",
        "    return weighted_avg\n",
        "\n",
        "# Group by Date and compute weighted average sentiment\n",
        "news_weighted = news_df.groupby('Date').apply(weighted_average_sentiment).reset_index()\n",
        "news_weighted.set_index('Date', inplace=True)\n",
        "\n",
        "print(\"Weighted Sentiment Scores Sample:\")\n",
        "print(news_weighted.head())"
      ]
    },
    {
      "cell_type": "markdown",
      "metadata": {
        "id": "merge-data"
      },
      "source": [
        "## 3. Merge Datasets\n",
        "\n",
        "Merge the stock data with the weighted news sentiment scores. If a date has no news, fill with zeros."
      ]
    },
    {
      "cell_type": "code",
      "execution_count": 4,
      "metadata": {
        "colab": {
          "base_uri": "https://localhost:8080/"
        },
        "id": "merge-datasets",
        "outputId": "b06f4971-54c3-4dba-9192-da96dc699f42"
      },
      "outputs": [
        {
          "name": "stdout",
          "output_type": "stream",
          "text": [
            "Merged Data Sample:\n",
            "                    Open          High           Low         Close     Volume  \\\n",
            "Date                                                                            \n",
            "2008-08-08  11432.089844  11759.959961  11388.040039  11734.320312  212830000   \n",
            "2008-08-08  11432.089844  11759.959961  11388.040039  11734.320312  212830000   \n",
            "2008-08-08  11432.089844  11759.959961  11388.040039  11734.320312  212830000   \n",
            "2008-08-11  11729.669922  11867.110352  11675.530273  11782.349609  183190000   \n",
            "2008-08-11  11729.669922  11867.110352  11675.530273  11782.349609  183190000   \n",
            "\n",
            "               Adj Close   level_1         0  \n",
            "Date                                          \n",
            "2008-08-08  11734.320312   neutral  0.700822  \n",
            "2008-08-08  11734.320312  negative  0.201746  \n",
            "2008-08-08  11734.320312  positive  0.097432  \n",
            "2008-08-11  11782.349609   neutral  0.674356  \n",
            "2008-08-11  11782.349609  positive  0.193718  \n"
          ]
        }
      ],
      "source": [
        "# Merge stock data with weighted news sentiment\n",
        "data = stock_df.merge(news_weighted, left_index=True, right_index=True, how='left')\n",
        "data[['level_1', 0]] = data[['level_1', 0]].fillna(0)\n",
        "\n",
        "print(\"Merged Data Sample:\")\n",
        "print(data.head())"
      ]
    },
    {
      "cell_type": "markdown",
      "metadata": {
        "id": "scale-financial"
      },
      "source": [
        "## 4. Scale Financial Data\n",
        "\n",
        "Scale the numerical financial features (Open, High, Low, Close, Volume) using StandardScaler."
      ]
    },
    {
      "cell_type": "code",
      "execution_count": 5,
      "metadata": {
        "colab": {
          "base_uri": "https://localhost:8080/"
        },
        "id": "scale-financial-code",
        "outputId": "952ff1a9-1714-46ef-eaa9-0f51d02796a3"
      },
      "outputs": [
        {
          "name": "stdout",
          "output_type": "stream",
          "text": [
            "Scaled Financial Features Sample:\n",
            "                Open      High       Low     Close    Volume\n",
            "Date                                                        \n",
            "2008-08-08 -0.645038 -0.568124 -0.630199 -0.549982  0.532685\n",
            "2008-08-08 -0.645038 -0.568124 -0.630199 -0.549982  0.532685\n",
            "2008-08-08 -0.645038 -0.568124 -0.630199 -0.549982  0.532685\n",
            "2008-08-11 -0.550342 -0.533950 -0.538921 -0.534702  0.217030\n",
            "2008-08-11 -0.550342 -0.533950 -0.538921 -0.534702  0.217030\n"
          ]
        }
      ],
      "source": [
        "financial_features = ['Open', 'High', 'Low', 'Close', 'Volume']\n",
        "\n",
        "scaler = StandardScaler()\n",
        "data[financial_features] = scaler.fit_transform(data[financial_features])\n",
        "\n",
        "print(\"Scaled Financial Features Sample:\")\n",
        "print(data[financial_features].head())"
      ]
    },
    {
      "cell_type": "markdown",
      "metadata": {
        "id": "time-split"
      },
      "source": [
        "## 5. Time-Based Train-Test Split\n",
        "\n",
        "Split the merged dataset based on time. The earliest 80% is used for training and the most recent 20% for testing."
      ]
    },
    {
      "cell_type": "code",
      "execution_count": 6,
      "metadata": {
        "colab": {
          "base_uri": "https://localhost:8080/"
        },
        "id": "time-split-code",
        "outputId": "269ae9d0-c18d-4ae6-c28d-f67c93cce3ea"
      },
      "outputs": [
        {
          "name": "stdout",
          "output_type": "stream",
          "text": [
            "Train data shape: (4773, 8)\n",
            "Test data shape: (1194, 8)\n"
          ]
        }
      ],
      "source": [
        "split_index = int(len(data) * 0.8)\n",
        "train_data = data.iloc[:split_index].copy()\n",
        "test_data = data.iloc[split_index:].copy()\n",
        "\n",
        "print(\"Train data shape:\", train_data.shape)\n",
        "print(\"Test data shape:\", test_data.shape)"
      ]
    },
    {
      "cell_type": "markdown",
      "metadata": {
        "id": "dynamic-window"
      },
      "source": [
        "## 6. Create Dynamic Financial Windows\n",
        "\n",
        "Instead of a fixed sliding window, we create dynamic windows whose length adapts based on recent volatility of the scaled Close price.\n",
        "\n",
        "Here, for each sample we set:\n",
        "- **base_window:** The minimum window length (e.g., 5 days)\n",
        "- **extra:** Additional days computed as `int(rolling_std * scaling_factor)` (capped by a maximum window size)\n",
        "\n",
        "The resulting window size is: `min(base_window + extra, max_window)`."
      ]
    },
    {
      "cell_type": "code",
      "execution_count": 7,
      "metadata": {
        "colab": {
          "base_uri": "https://localhost:8080/"
        },
        "id": "dynamic-window-code",
        "outputId": "12e07e33-6a1f-47a8-f34e-d9b14a48e6a4"
      },
      "outputs": [
        {
          "name": "stdout",
          "output_type": "stream",
          "text": [
            "Number of training samples: 4768\n",
            "Number of testing samples: 1189\n"
          ]
        }
      ],
      "source": [
        "def create_dynamic_windows(df, base_window=5, scaling_factor=3, max_window=10):\n",
        "    X_fin = []\n",
        "    y = []\n",
        "    dates = []\n",
        "    # Compute rolling volatility (std) over the base window\n",
        "    roll_std = df['Close'].rolling(window=base_window, min_periods=base_window).std()\n",
        "    roll_std = roll_std.fillna(roll_std.mean())\n",
        "\n",
        "    for i in range(base_window, len(df)):\n",
        "        extra = int(roll_std.iloc[i] * scaling_factor)\n",
        "        window_size = min(base_window + extra, max_window)\n",
        "        if i - window_size < 0:\n",
        "            continue\n",
        "        window = df.iloc[i-window_size:i][financial_features].values\n",
        "        target = df.iloc[i]['Close']\n",
        "        date = df.index[i]\n",
        "        X_fin.append(window)\n",
        "        y.append(target)\n",
        "        dates.append(date)\n",
        "    return X_fin, np.array(y), dates\n",
        "\n",
        "# Create dynamic windows for training and testing sets\n",
        "X_fin_train, y_fin_train, dates_train = create_dynamic_windows(train_data, base_window=5, scaling_factor=3, max_window=10)\n",
        "X_fin_test, y_fin_test, dates_test = create_dynamic_windows(test_data, base_window=5, scaling_factor=3, max_window=10)\n",
        "\n",
        "print(\"Number of training samples:\", len(X_fin_train))\n",
        "print(\"Number of testing samples:\", len(X_fin_test))"
      ]
    },
    {
      "cell_type": "markdown",
      "metadata": {
        "id": "tokenize-text"
      },
      "source": [
        "## 7. Tokenize Text Data Using FinBERT\n",
        "\n",
        "Initialize the FinBERT tokenizer and tokenize the aggregated news text corresponding to the dates in our financial windows."
      ]
    },
    {
      "cell_type": "code",
      "execution_count": null,
      "metadata": {
        "colab": {
          "base_uri": "https://localhost:8080/"
        },
        "id": "tokenize-text-code",
        "outputId": "57a05321-8091-45e5-ed1f-1d8cf5bfd529"
      },
      "outputs": [
        {
          "name": "stdout",
          "output_type": "stream",
          "text": [
            "Training text samples: 4768\n",
            "No tokenization applied to test set since 'News' field is absent.\n"
          ]
        }
      ],
      "source": [
        "finbert_model_name = \"yiyanghkust/finbert-tone\"\n",
        "tokenizer = AutoTokenizer.from_pretrained(finbert_model_name)\n",
        "\n",
        "def tokenize_text(text, max_length=128):\n",
        "    if not text:\n",
        "        return torch.zeros(max_length, dtype=torch.long), torch.zeros(max_length, dtype=torch.long)\n",
        "    encoded = tokenizer.encode_plus(\n",
        "        text,\n",
        "        add_special_tokens=True,\n",
        "        max_length=max_length,\n",
        "        truncation=True,\n",
        "        padding='max_length',\n",
        "        return_tensors='pt'\n",
        "    )\n",
        "    return encoded['input_ids'].squeeze(0), encoded['attention_mask'].squeeze(0)\n",
        "\n",
        "# Tokenize training data (if 'News' column is available)\n",
        "text_inputs_train = []\n",
        "text_inputs_test=[]\n",
        "for d in dates_train:\n",
        "    news_text = train_data.loc[d]['News'] if d in train_data.index and 'News' in train_data.columns else \"\"\n",
        "    text_inputs_train.append(tokenize_text(news_text))\n",
        "\n",
        "for d in dates_test:\n",
        "    news_text = test_data.loc[d]['News'] if d in test_data.index and 'News' in test_data.columns else \"\"\n",
        "    text_inputs_test.append(tokenize_text(news_text))\n",
        "\n",
        "print(\"Training text samples:\", len(text_inputs_train))"
      ]
    },
    {
      "cell_type": "markdown",
      "metadata": {
        "id": "collate-fn"
      },
      "source": [
        "## 8. Custom Collate Function\n",
        "\n",
        "Since our dynamic financial windows are of variable lengths, we define a custom collate function to pad these sequences for batch processing."
      ]
    },
    {
      "cell_type": "code",
      "execution_count": 18,
      "metadata": {
        "colab": {
          "base_uri": "https://localhost:8080/"
        },
        "id": "collate-fn-code",
        "outputId": "bf86e99f-ebe6-4b73-d863-bf68dfacb4e5"
      },
      "outputs": [
        {
          "name": "stdout",
          "output_type": "stream",
          "text": [
            "Custom collate function defined.\n"
          ]
        }
      ],
      "source": [
        "def collate_fn(batch):\n",
        "    fin_data_list, input_ids_list, attention_mask_list, labels_list = zip(*batch)\n",
        "    # Pad financial data sequences (they are variable-length tensors)\n",
        "    fin_data_padded = torch.nn.utils.rnn.pad_sequence(fin_data_list, batch_first=True)\n",
        "    lengths = torch.tensor([x.shape[0] for x in fin_data_list])\n",
        "    input_ids = torch.stack(input_ids_list)\n",
        "    attention_mask = torch.stack(attention_mask_list)\n",
        "    labels = torch.stack(labels_list)\n",
        "    return fin_data_padded, lengths, input_ids, attention_mask, labels\n",
        "\n",
        "# Example collate_fn test\n",
        "from torch.utils.data import DataLoader\n",
        "print(\"Custom collate function defined.\")"
      ]
    },
    {
      "cell_type": "markdown",
      "metadata": {
        "id": "custom-dataset"
      },
      "source": [
        "## 9. Create Custom Dataset\n",
        "\n",
        "Define a custom PyTorch Dataset that returns:\n",
        "- A variable-length financial window (as a tensor)\n",
        "- Tokenized text (input_ids, attention_mask)\n",
        "- The target closing price"
      ]
    },
    {
      "cell_type": "code",
      "execution_count": 19,
      "metadata": {
        "colab": {
          "base_uri": "https://localhost:8080/"
        },
        "id": "custom-dataset-code",
        "outputId": "d0967408-3fc8-43d3-9f1b-1071afc43d77"
      },
      "outputs": [
        {
          "name": "stdout",
          "output_type": "stream",
          "text": [
            "Training dataset size: 4768\n",
            "Testing dataset size: 1189\n"
          ]
        }
      ],
      "source": [
        "class StockNewsDataset(Dataset):\n",
        "    def __init__(self, X_fin, text_inputs, y):\n",
        "        self.X_fin = [torch.tensor(x, dtype=torch.float32) for x in X_fin]\n",
        "        self.text_inputs = text_inputs  # list of (input_ids, attention_mask)\n",
        "        self.y = torch.tensor(y, dtype=torch.float32)\n",
        "    def __len__(self):\n",
        "        return len(self.y)\n",
        "    def __getitem__(self, idx):\n",
        "        fin_data = self.X_fin[idx]\n",
        "        input_ids, attention_mask = self.text_inputs[idx]\n",
        "        label = self.y[idx]\n",
        "        return fin_data, input_ids, attention_mask, label\n",
        "\n",
        "train_dataset = StockNewsDataset(X_fin_train, text_inputs_train, y_fin_train)\n",
        "test_dataset = StockNewsDataset(X_fin_test, text_inputs_test, y_fin_test)\n",
        "\n",
        "train_loader = DataLoader(train_dataset, batch_size=16, shuffle=True, collate_fn=collate_fn)\n",
        "test_loader = DataLoader(test_dataset, batch_size=16, shuffle=False, collate_fn=collate_fn)\n",
        "\n",
        "print(\"Training dataset size:\", len(train_dataset))\n",
        "print(\"Testing dataset size:\", len(test_dataset))"
      ]
    },
    {
      "cell_type": "markdown",
      "metadata": {
        "id": "tcn-model"
      },
      "source": [
        "## 10. Define the TCN for the Financial Branch\n",
        "\n",
        "We implement a simple Temporal Convolutional Network (TCN) to replace the LSTM for the financial branch."
      ]
    },
    {
      "cell_type": "code",
      "execution_count": 12,
      "metadata": {
        "colab": {
          "base_uri": "https://localhost:8080/"
        },
        "id": "tcn-code",
        "outputId": "55f2862b-417b-4275-9dfc-35d5543fdc73"
      },
      "outputs": [
        {
          "name": "stdout",
          "output_type": "stream",
          "text": [
            "TCN modules defined.\n"
          ]
        }
      ],
      "source": [
        "class TemporalBlock(nn.Module):\n",
        "    def __init__(self, n_inputs, n_outputs, kernel_size, stride, dilation, padding, dropout=0.2):\n",
        "        super(TemporalBlock, self).__init__()\n",
        "        self.conv1 = nn.Conv1d(n_inputs, n_outputs, kernel_size, stride=stride, padding=padding, dilation=dilation)\n",
        "        self.relu1 = nn.ReLU()\n",
        "        self.dropout1 = nn.Dropout(dropout)\n",
        "        self.conv2 = nn.Conv1d(n_outputs, n_outputs, kernel_size, stride=stride, padding=padding, dilation=dilation)\n",
        "        self.relu2 = nn.ReLU()\n",
        "        self.dropout2 = nn.Dropout(dropout)\n",
        "        self.downsample = nn.Conv1d(n_inputs, n_outputs, 1) if n_inputs != n_outputs else None\n",
        "        self.relu = nn.ReLU()\n",
        "\n",
        "    def forward(self, x):\n",
        "        out = self.conv1(x)\n",
        "        out = self.relu1(out)\n",
        "        out = self.dropout1(out)\n",
        "        out = self.conv2(out)\n",
        "        out = self.relu2(out)\n",
        "        out = self.dropout2(out)\n",
        "        res = x if self.downsample is None else self.downsample(x)\n",
        "\n",
        "        # Align sequence length if needed\n",
        "        if out.size(-1) != res.size(-1):\n",
        "            min_len = min(out.size(-1), res.size(-1))\n",
        "            out = out[:, :, :min_len]\n",
        "            res = res[:, :, :min_len]\n",
        "\n",
        "        return self.relu(out + res)\n",
        "\n",
        "class TCN(nn.Module):\n",
        "    def __init__(self, num_inputs, num_channels, kernel_size=2, dropout=0.2):\n",
        "        super(TCN, self).__init__()\n",
        "        layers = []\n",
        "        num_levels = len(num_channels)\n",
        "        for i in range(num_levels):\n",
        "            dilation_size = 2 ** i\n",
        "            in_channels = num_inputs if i == 0 else num_channels[i-1]\n",
        "            out_channels = num_channels[i]\n",
        "            layers += [TemporalBlock(in_channels, out_channels, kernel_size, stride=1, dilation=dilation_size,\n",
        "                                      padding=(kernel_size-1)*dilation_size, dropout=dropout)]\n",
        "        self.network = nn.Sequential(*layers)\n",
        "    def forward(self, x):\n",
        "        return self.network(x)\n",
        "\n",
        "class FinancialBranchTCN(nn.Module):\n",
        "    def __init__(self, input_dim, tcn_channels=[64, 64], kernel_size=2, dropout=0.2):\n",
        "        super(FinancialBranchTCN, self).__init__()\n",
        "        self.tcn = TCN(input_dim, tcn_channels, kernel_size=kernel_size, dropout=dropout)\n",
        "        self.fc = nn.Linear(tcn_channels[-1], 64)\n",
        "    def forward(self, x, lengths):\n",
        "        # x: [batch, seq_len, input_dim] -> transpose to [batch, input_dim, seq_len]\n",
        "        x = x.transpose(1, 2)\n",
        "        y = self.tcn(x)\n",
        "        # Global average pooling over the time dimension\n",
        "        y = torch.mean(y, dim=2)\n",
        "        out = torch.relu(self.fc(y))\n",
        "        return out\n",
        "\n",
        "print(\"TCN modules defined.\")"
      ]
    },
    {
      "cell_type": "markdown",
      "metadata": {
        "id": "dual-branch-model"
      },
      "source": [
        "## 11. Define the Dual-Branch Model\n",
        "\n",
        "The model comprises:\n",
        "\n",
        "- **Text Branch:** Uses FinBERT (frozen) followed by a bidirectional LSTM and an attention mechanism.\n",
        "- **Financial Branch:** Uses the TCN-based module on dynamic financial windows.\n",
        "\n",
        "The outputs from both branches are concatenated and fed through fully connected layers to predict the next day's closing price."
      ]
    },
    {
      "cell_type": "code",
      "execution_count": 13,
      "metadata": {
        "colab": {
          "base_uri": "https://localhost:8080/"
        },
        "id": "dual-branch-code",
        "outputId": "bba2f14c-c129-42e1-bf64-297051c8017c"
      },
      "outputs": [
        {
          "name": "stdout",
          "output_type": "stream",
          "text": [
            "FusionModel(\n",
            "  (text_branch): TextBranch(\n",
            "    (bert): BertModel(\n",
            "      (embeddings): BertEmbeddings(\n",
            "        (word_embeddings): Embedding(30873, 768, padding_idx=0)\n",
            "        (position_embeddings): Embedding(512, 768)\n",
            "        (token_type_embeddings): Embedding(2, 768)\n",
            "        (LayerNorm): LayerNorm((768,), eps=1e-12, elementwise_affine=True)\n",
            "        (dropout): Dropout(p=0.1, inplace=False)\n",
            "      )\n",
            "      (encoder): BertEncoder(\n",
            "        (layer): ModuleList(\n",
            "          (0-11): 12 x BertLayer(\n",
            "            (attention): BertAttention(\n",
            "              (self): BertSdpaSelfAttention(\n",
            "                (query): Linear(in_features=768, out_features=768, bias=True)\n",
            "                (key): Linear(in_features=768, out_features=768, bias=True)\n",
            "                (value): Linear(in_features=768, out_features=768, bias=True)\n",
            "                (dropout): Dropout(p=0.1, inplace=False)\n",
            "              )\n",
            "              (output): BertSelfOutput(\n",
            "                (dense): Linear(in_features=768, out_features=768, bias=True)\n",
            "                (LayerNorm): LayerNorm((768,), eps=1e-12, elementwise_affine=True)\n",
            "                (dropout): Dropout(p=0.1, inplace=False)\n",
            "              )\n",
            "            )\n",
            "            (intermediate): BertIntermediate(\n",
            "              (dense): Linear(in_features=768, out_features=3072, bias=True)\n",
            "              (intermediate_act_fn): GELUActivation()\n",
            "            )\n",
            "            (output): BertOutput(\n",
            "              (dense): Linear(in_features=3072, out_features=768, bias=True)\n",
            "              (LayerNorm): LayerNorm((768,), eps=1e-12, elementwise_affine=True)\n",
            "              (dropout): Dropout(p=0.1, inplace=False)\n",
            "            )\n",
            "          )\n",
            "        )\n",
            "      )\n",
            "      (pooler): BertPooler(\n",
            "        (dense): Linear(in_features=768, out_features=768, bias=True)\n",
            "        (activation): Tanh()\n",
            "      )\n",
            "    )\n",
            "    (lstm): LSTM(768, 128, batch_first=True, bidirectional=True)\n",
            "    (attention): Attention(\n",
            "      (attn): Linear(in_features=256, out_features=1, bias=True)\n",
            "    )\n",
            "  )\n",
            "  (fin_branch): FinancialBranchTCN(\n",
            "    (tcn): TCN(\n",
            "      (network): Sequential(\n",
            "        (0): TemporalBlock(\n",
            "          (conv1): Conv1d(5, 64, kernel_size=(2,), stride=(1,), padding=(1,))\n",
            "          (relu1): ReLU()\n",
            "          (dropout1): Dropout(p=0.2, inplace=False)\n",
            "          (conv2): Conv1d(64, 64, kernel_size=(2,), stride=(1,), padding=(1,))\n",
            "          (relu2): ReLU()\n",
            "          (dropout2): Dropout(p=0.2, inplace=False)\n",
            "          (downsample): Conv1d(5, 64, kernel_size=(1,), stride=(1,))\n",
            "          (relu): ReLU()\n",
            "        )\n",
            "        (1): TemporalBlock(\n",
            "          (conv1): Conv1d(64, 64, kernel_size=(2,), stride=(1,), padding=(2,), dilation=(2,))\n",
            "          (relu1): ReLU()\n",
            "          (dropout1): Dropout(p=0.2, inplace=False)\n",
            "          (conv2): Conv1d(64, 64, kernel_size=(2,), stride=(1,), padding=(2,), dilation=(2,))\n",
            "          (relu2): ReLU()\n",
            "          (dropout2): Dropout(p=0.2, inplace=False)\n",
            "          (relu): ReLU()\n",
            "        )\n",
            "      )\n",
            "    )\n",
            "    (fc): Linear(in_features=64, out_features=64, bias=True)\n",
            "  )\n",
            "  (fc1): Linear(in_features=320, out_features=64, bias=True)\n",
            "  (dropout): Dropout(p=0.3, inplace=False)\n",
            "  (fc2): Linear(in_features=64, out_features=1, bias=True)\n",
            ")\n"
          ]
        }
      ],
      "source": [
        "class Attention(nn.Module):\n",
        "    def __init__(self, hidden_dim):\n",
        "        super(Attention, self).__init__()\n",
        "        self.attn = nn.Linear(hidden_dim, 1)\n",
        "    def forward(self, lstm_output):\n",
        "        # lstm_output: [batch, seq_len, hidden_dim]\n",
        "        attn_weights = torch.softmax(self.attn(lstm_output), dim=1)\n",
        "        context = torch.sum(attn_weights * lstm_output, dim=1)\n",
        "        return context\n",
        "\n",
        "class TextBranch(nn.Module):\n",
        "    def __init__(self, bert_model_name, lstm_hidden=128, lstm_layers=1, bidirectional=True):\n",
        "        super(TextBranch, self).__init__()\n",
        "        self.bert = AutoModel.from_pretrained(bert_model_name)\n",
        "        for param in self.bert.parameters():\n",
        "            param.requires_grad = False\n",
        "        self.lstm = nn.LSTM(self.bert.config.hidden_size, lstm_hidden, num_layers=lstm_layers,\n",
        "                            batch_first=True, bidirectional=bidirectional)\n",
        "        self.attention = Attention(lstm_hidden * 2 if bidirectional else lstm_hidden)\n",
        "    def forward(self, input_ids, attention_mask):\n",
        "        with torch.no_grad():\n",
        "            outputs = self.bert(input_ids=input_ids, attention_mask=attention_mask)\n",
        "        lstm_out, _ = self.lstm(outputs.last_hidden_state)\n",
        "        text_rep = self.attention(lstm_out)\n",
        "        return text_rep\n",
        "\n",
        "class FusionModel(nn.Module):\n",
        "    def __init__(self, bert_model_name, fin_input_dim, text_hidden=128, fc_hidden=64):\n",
        "        super(FusionModel, self).__init__()\n",
        "        self.text_branch = TextBranch(bert_model_name, lstm_hidden=text_hidden)\n",
        "        self.fin_branch = FinancialBranchTCN(fin_input_dim, tcn_channels=[64, 64])\n",
        "        fusion_dim = (text_hidden * 2) + 64\n",
        "        self.fc1 = nn.Linear(fusion_dim, fc_hidden)\n",
        "        self.dropout = nn.Dropout(0.3)\n",
        "        self.fc2 = nn.Linear(fc_hidden, 1)\n",
        "    def forward(self, fin_data, fin_lengths, input_ids, attention_mask):\n",
        "        text_feat = self.text_branch(input_ids, attention_mask)\n",
        "        fin_feat = self.fin_branch(fin_data, fin_lengths)\n",
        "        fused = torch.cat([text_feat, fin_feat], dim=1)\n",
        "        x = torch.relu(self.fc1(fused))\n",
        "        x = self.dropout(x)\n",
        "        out = self.fc2(x)\n",
        "        return out.squeeze(1)\n",
        "\n",
        "# Initialize the fusion model\n",
        "bert_model_name = \"yiyanghkust/finbert-tone\"\n",
        "fin_input_dim = len(financial_features)\n",
        "model = FusionModel(bert_model_name, fin_input_dim).to(device)\n",
        "print(model)"
      ]
    },
    {
      "cell_type": "markdown",
      "metadata": {
        "id": "training-loop"
      },
      "source": [
        "## 12. Training Loop\n",
        "\n",
        "Train the dual-branch model using the training dataset. We use MSE loss with the Adam optimizer."
      ]
    },
    {
      "cell_type": "code",
      "execution_count": null,
      "metadata": {
        "colab": {
          "base_uri": "https://localhost:8080/"
        },
        "id": "train-loop",
        "outputId": "6bfd582e-e63c-4c35-f1b0-e3006e0778ad"
      },
      "outputs": [
        {
          "name": "stderr",
          "output_type": "stream",
          "text": [
            "Epoch 1/5: 100%|██████████| 298/298 [00:35<00:00,  8.40it/s]\n"
          ]
        },
        {
          "name": "stdout",
          "output_type": "stream",
          "text": [
            "Epoch 1 Loss: 0.0221\n"
          ]
        },
        {
          "name": "stderr",
          "output_type": "stream",
          "text": [
            "Epoch 2/5: 100%|██████████| 298/298 [00:35<00:00,  8.28it/s]\n"
          ]
        },
        {
          "name": "stdout",
          "output_type": "stream",
          "text": [
            "Epoch 2 Loss: 0.0216\n"
          ]
        },
        {
          "name": "stderr",
          "output_type": "stream",
          "text": [
            "Epoch 3/5: 100%|██████████| 298/298 [00:35<00:00,  8.48it/s]\n"
          ]
        },
        {
          "name": "stdout",
          "output_type": "stream",
          "text": [
            "Epoch 3 Loss: 0.0216\n"
          ]
        },
        {
          "name": "stderr",
          "output_type": "stream",
          "text": [
            "Epoch 4/5: 100%|██████████| 298/298 [00:36<00:00,  8.26it/s]\n"
          ]
        },
        {
          "name": "stdout",
          "output_type": "stream",
          "text": [
            "Epoch 4 Loss: 0.0223\n"
          ]
        },
        {
          "name": "stderr",
          "output_type": "stream",
          "text": [
            "Epoch 5/5: 100%|██████████| 298/298 [00:35<00:00,  8.49it/s]"
          ]
        },
        {
          "name": "stdout",
          "output_type": "stream",
          "text": [
            "Epoch 5 Loss: 0.0212\n"
          ]
        },
        {
          "name": "stderr",
          "output_type": "stream",
          "text": [
            "\n"
          ]
        }
      ],
      "source": [
        "num_epochs = 5\n",
        "optimizer = optim.Adam(model.parameters(), lr=1e-4)\n",
        "criterion = nn.MSELoss()\n",
        "\n",
        "model.train()\n",
        "for epoch in range(num_epochs):\n",
        "    epoch_losses = []\n",
        "    for fin_data, lengths, input_ids, attention_mask, labels in tqdm(train_loader, desc=f\"Epoch {epoch+1}/{num_epochs}\"):\n",
        "        fin_data = fin_data.to(device)\n",
        "        input_ids = input_ids.to(device)\n",
        "        attention_mask = attention_mask.to(device)\n",
        "        labels = labels.to(device)\n",
        "\n",
        "        optimizer.zero_grad()\n",
        "        outputs = model(fin_data, lengths, input_ids, attention_mask)\n",
        "        loss = criterion(outputs, labels)\n",
        "        loss.backward()\n",
        "        optimizer.step()\n",
        "        epoch_losses.append(loss.item())\n",
        "    avg_loss = np.mean(epoch_losses)\n",
        "    print(f\"Epoch {epoch+1} Loss: {avg_loss:.4f}\")"
      ]
    },
    {
      "cell_type": "markdown",
      "metadata": {},
      "source": [
        "## 13. Evaluation on Test Set\n",
        "\n",
        "Evaluate the model on the test set using MSE, RMSE, MAPE, and Spearman correlation. Also, plot the predicted vs actual closing prices."
      ]
    },
    {
      "cell_type": "code",
      "execution_count": 21,
      "metadata": {
        "colab": {
          "base_uri": "https://localhost:8080/",
          "height": 588
        },
        "id": "evaluation-code",
        "outputId": "f17c1c8c-3e87-416c-d132-6be50bf20d98"
      },
      "outputs": [
        {
          "name": "stdout",
          "output_type": "stream",
          "text": [
            "Test MSE: 0.0083\n",
            "Test RMSE: 0.0909\n",
            "Test MAPE: 6.15%\n",
            "Spearman Correlation: 0.9102\n"
          ]
        },
        {
          "data": {
            "image/png": "[encoded data removed]",
            "text/plain": [
              "<Figure size 1000x600 with 1 Axes>"
            ]
          },
          "metadata": {},
          "output_type": "display_data"
        }
      ],
      "source": [
        "model.eval()\n",
        "all_preds = []\n",
        "all_labels = []\n",
        "with torch.no_grad():\n",
        "    for fin_data, lengths, input_ids, attention_mask, labels in test_loader:\n",
        "        fin_data = fin_data.to(device)\n",
        "        input_ids = input_ids.to(device)\n",
        "        attention_mask = attention_mask.to(device)\n",
        "        labels = labels.to(device)\n",
        "        preds = model(fin_data, lengths, input_ids, attention_mask)\n",
        "        all_preds.extend(preds.cpu().numpy())\n",
        "        all_labels.extend(labels.cpu().numpy())\n",
        "\n",
        "all_preds = np.array(all_preds)\n",
        "all_labels = np.array(all_labels)\n",
        "\n",
        "mse_val = mean_squared_error(all_labels, all_preds)\n",
        "rmse_val = np.sqrt(mse_val)\n",
        "mape_val = np.mean(np.abs((all_labels - all_preds) / all_labels)) * 100\n",
        "spearman_corr, _ = spearmanr(all_labels, all_preds)\n",
        "\n",
        "print(f\"Test MSE: {mse_val:.4f}\")\n",
        "print(f\"Test RMSE: {rmse_val:.4f}\")\n",
        "print(f\"Test MAPE: {mape_val:.2f}%\")\n",
        "print(f\"Spearman Correlation: {spearman_corr:.4f}\")\n",
        "\n",
        "plt.figure(figsize=(10,6))\n",
        "plt.plot(all_labels, label='Actual')\n",
        "plt.plot(all_preds, label='Predicted')\n",
        "plt.title('Test: Actual vs Predicted Closing Prices')\n",
        "plt.xlabel('Sample Index')\n",
        "plt.ylabel('Closing Price')\n",
        "plt.legend()\n",
        "plt.show()"
      ]
    }
  ],
  "metadata": {
    "accelerator": "GPU",
    "colab": {
      "gpuType": "T4",
      "provenance": []
    },
    "kernelspec": {
      "display_name": "cvproj",
      "language": "python",
      "name": "python3"
    },
    "language_info": {
      "codemirror_mode": {
        "name": "ipython",
        "version": 3
      },
      "file_extension": ".py",
      "mimetype": "text/x-python",
      "name": "python",
      "nbconvert_exporter": "python",
      "pygments_lexer": "ipython3",
      "version": "3.13.2"
    },
    "widgets": {
      "application/vnd.jupyter.widget-state+json": {
        "0cacfa975ca24088953f27449c8cc154": {
          "model_module": "@jupyter-widgets/base",
          "model_module_version": "1.2.0",
          "model_name": "LayoutModel",
          "state": {
            "_model_module": "@jupyter-widgets/base",
            "_model_module_version": "1.2.0",
            "_model_name": "LayoutModel",
            "_view_count": null,
            "_view_module": "@jupyter-widgets/base",
            "_view_module_version": "1.2.0",
            "_view_name": "LayoutView",
            "align_content": null,
            "align_items": null,
            "align_self": null,
            "border": null,
            "bottom": null,
            "display": null,
            "flex": null,
            "flex_flow": null,
            "grid_area": null,
            "grid_auto_columns": null,
            "grid_auto_flow": null,
            "grid_auto_rows": null,
            "grid_column": null,
            "grid_gap": null,
            "grid_row": null,
            "grid_template_areas": null,
            "grid_template_columns": null,
            "grid_template_rows": null,
            "height": null,
            "justify_content": null,
            "justify_items": null,
            "left": null,
            "margin": null,
            "max_height": null,
            "max_width": null,
            "min_height": null,
            "min_width": null,
            "object_fit": null,
            "object_position": null,
            "order": null,
            "overflow": null,
            "overflow_x": null,
            "overflow_y": null,
            "padding": null,
            "right": null,
            "top": null,
            "visibility": null,
            "width": null
          }
        },
        "0d07eb7e9a0447b1ae2e013b96f67489": {
          "model_module": "@jupyter-widgets/controls",
          "model_module_version": "1.5.0",
          "model_name": "HTMLModel",
          "state": {
            "_dom_classes": [],
            "_model_module": "@jupyter-widgets/controls",
            "_model_module_version": "1.5.0",
            "_model_name": "HTMLModel",
            "_view_count": null,
            "_view_module": "@jupyter-widgets/controls",
            "_view_module_version": "1.5.0",
            "_view_name": "HTMLView",
            "description": "",
            "description_tooltip": null,
            "layout": "IPY_MODEL_8ff977d185e044eb9f1662226fe49440",
            "placeholder": "​",
            "style": "IPY_MODEL_83fb3a449a604c2ea8c959803f3523aa",
            "value": "pytorch_model.bin: 100%"
          }
        },
        "0d4504aa444646dd935de6b811edeeba": {
          "model_module": "@jupyter-widgets/base",
          "model_module_version": "1.2.0",
          "model_name": "LayoutModel",
          "state": {
            "_model_module": "@jupyter-widgets/base",
            "_model_module_version": "1.2.0",
            "_model_name": "LayoutModel",
            "_view_count": null,
            "_view_module": "@jupyter-widgets/base",
            "_view_module_version": "1.2.0",
            "_view_name": "LayoutView",
            "align_content": null,
            "align_items": null,
            "align_self": null,
            "border": null,
            "bottom": null,
            "display": null,
            "flex": null,
            "flex_flow": null,
            "grid_area": null,
            "grid_auto_columns": null,
            "grid_auto_flow": null,
            "grid_auto_rows": null,
            "grid_column": null,
            "grid_gap": null,
            "grid_row": null,
            "grid_template_areas": null,
            "grid_template_columns": null,
            "grid_template_rows": null,
            "height": null,
            "justify_content": null,
            "justify_items": null,
            "left": null,
            "margin": null,
            "max_height": null,
            "max_width": null,
            "min_height": null,
            "min_width": null,
            "object_fit": null,
            "object_position": null,
            "order": null,
            "overflow": null,
            "overflow_x": null,
            "overflow_y": null,
            "padding": null,
            "right": null,
            "top": null,
            "visibility": null,
            "width": null
          }
        },
        "0e2fbf047fd2444ba6d6aafd10c04bc1": {
          "model_module": "@jupyter-widgets/controls",
          "model_module_version": "1.5.0",
          "model_name": "ProgressStyleModel",
          "state": {
            "_model_module": "@jupyter-widgets/controls",
            "_model_module_version": "1.5.0",
            "_model_name": "ProgressStyleModel",
            "_view_count": null,
            "_view_module": "@jupyter-widgets/base",
            "_view_module_version": "1.2.0",
            "_view_name": "StyleView",
            "bar_color": null,
            "description_width": ""
          }
        },
        "12ea49dfc06a431ba6b40250066a97c9": {
          "model_module": "@jupyter-widgets/controls",
          "model_module_version": "1.5.0",
          "model_name": "DescriptionStyleModel",
          "state": {
            "_model_module": "@jupyter-widgets/controls",
            "_model_module_version": "1.5.0",
            "_model_name": "DescriptionStyleModel",
            "_view_count": null,
            "_view_module": "@jupyter-widgets/base",
            "_view_module_version": "1.2.0",
            "_view_name": "StyleView",
            "description_width": ""
          }
        },
        "131111b6ccae4ac6aa854657c2e1d8a3": {
          "model_module": "@jupyter-widgets/controls",
          "model_module_version": "1.5.0",
          "model_name": "ProgressStyleModel",
          "state": {
            "_model_module": "@jupyter-widgets/controls",
            "_model_module_version": "1.5.0",
            "_model_name": "ProgressStyleModel",
            "_view_count": null,
            "_view_module": "@jupyter-widgets/base",
            "_view_module_version": "1.2.0",
            "_view_name": "StyleView",
            "bar_color": null,
            "description_width": ""
          }
        },
        "135fa4a9fca24f85992af547756a9b73": {
          "model_module": "@jupyter-widgets/base",
          "model_module_version": "1.2.0",
          "model_name": "LayoutModel",
          "state": {
            "_model_module": "@jupyter-widgets/base",
            "_model_module_version": "1.2.0",
            "_model_name": "LayoutModel",
            "_view_count": null,
            "_view_module": "@jupyter-widgets/base",
            "_view_module_version": "1.2.0",
            "_view_name": "LayoutView",
            "align_content": null,
            "align_items": null,
            "align_self": null,
            "border": null,
            "bottom": null,
            "display": null,
            "flex": null,
            "flex_flow": null,
            "grid_area": null,
            "grid_auto_columns": null,
            "grid_auto_flow": null,
            "grid_auto_rows": null,
            "grid_column": null,
            "grid_gap": null,
            "grid_row": null,
            "grid_template_areas": null,
            "grid_template_columns": null,
            "grid_template_rows": null,
            "height": null,
            "justify_content": null,
            "justify_items": null,
            "left": null,
            "margin": null,
            "max_height": null,
            "max_width": null,
            "min_height": null,
            "min_width": null,
            "object_fit": null,
            "object_position": null,
            "order": null,
            "overflow": null,
            "overflow_x": null,
            "overflow_y": null,
            "padding": null,
            "right": null,
            "top": null,
            "visibility": null,
            "width": null
          }
        },
        "1b2df519d82146a09c95244e56c6d91a": {
          "model_module": "@jupyter-widgets/base",
          "model_module_version": "1.2.0",
          "model_name": "LayoutModel",
          "state": {
            "_model_module": "@jupyter-widgets/base",
            "_model_module_version": "1.2.0",
            "_model_name": "LayoutModel",
            "_view_count": null,
            "_view_module": "@jupyter-widgets/base",
            "_view_module_version": "1.2.0",
            "_view_name": "LayoutView",
            "align_content": null,
            "align_items": null,
            "align_self": null,
            "border": null,
            "bottom": null,
            "display": null,
            "flex": null,
            "flex_flow": null,
            "grid_area": null,
            "grid_auto_columns": null,
            "grid_auto_flow": null,
            "grid_auto_rows": null,
            "grid_column": null,
            "grid_gap": null,
            "grid_row": null,
            "grid_template_areas": null,
            "grid_template_columns": null,
            "grid_template_rows": null,
            "height": null,
            "justify_content": null,
            "justify_items": null,
            "left": null,
            "margin": null,
            "max_height": null,
            "max_width": null,
            "min_height": null,
            "min_width": null,
            "object_fit": null,
            "object_position": null,
            "order": null,
            "overflow": null,
            "overflow_x": null,
            "overflow_y": null,
            "padding": null,
            "right": null,
            "top": null,
            "visibility": null,
            "width": null
          }
        },
        "2bfc3733f7e1409aa4a2e24dde57d475": {
          "model_module": "@jupyter-widgets/base",
          "model_module_version": "1.2.0",
          "model_name": "LayoutModel",
          "state": {
            "_model_module": "@jupyter-widgets/base",
            "_model_module_version": "1.2.0",
            "_model_name": "LayoutModel",
            "_view_count": null,
            "_view_module": "@jupyter-widgets/base",
            "_view_module_version": "1.2.0",
            "_view_name": "LayoutView",
            "align_content": null,
            "align_items": null,
            "align_self": null,
            "border": null,
            "bottom": null,
            "display": null,
            "flex": null,
            "flex_flow": null,
            "grid_area": null,
            "grid_auto_columns": null,
            "grid_auto_flow": null,
            "grid_auto_rows": null,
            "grid_column": null,
            "grid_gap": null,
            "grid_row": null,
            "grid_template_areas": null,
            "grid_template_columns": null,
            "grid_template_rows": null,
            "height": null,
            "justify_content": null,
            "justify_items": null,
            "left": null,
            "margin": null,
            "max_height": null,
            "max_width": null,
            "min_height": null,
            "min_width": null,
            "object_fit": null,
            "object_position": null,
            "order": null,
            "overflow": null,
            "overflow_x": null,
            "overflow_y": null,
            "padding": null,
            "right": null,
            "top": null,
            "visibility": null,
            "width": null
          }
        },
        "2de332926ea546bba2232a3cec2814d6": {
          "model_module": "@jupyter-widgets/controls",
          "model_module_version": "1.5.0",
          "model_name": "HTMLModel",
          "state": {
            "_dom_classes": [],
            "_model_module": "@jupyter-widgets/controls",
            "_model_module_version": "1.5.0",
            "_model_name": "HTMLModel",
            "_view_count": null,
            "_view_module": "@jupyter-widgets/controls",
            "_view_module_version": "1.5.0",
            "_view_name": "HTMLView",
            "description": "",
            "description_tooltip": null,
            "layout": "IPY_MODEL_3e3f34df677547db97d4d12bd2616e33",
            "placeholder": "​",
            "style": "IPY_MODEL_f40bf7196559442883720c371f564f70",
            "value": " 226k/226k [00:00&lt;00:00, 3.47MB/s]"
          }
        },
        "305d843dda954a568adb374765f33e64": {
          "model_module": "@jupyter-widgets/base",
          "model_module_version": "1.2.0",
          "model_name": "LayoutModel",
          "state": {
            "_model_module": "@jupyter-widgets/base",
            "_model_module_version": "1.2.0",
            "_model_name": "LayoutModel",
            "_view_count": null,
            "_view_module": "@jupyter-widgets/base",
            "_view_module_version": "1.2.0",
            "_view_name": "LayoutView",
            "align_content": null,
            "align_items": null,
            "align_self": null,
            "border": null,
            "bottom": null,
            "display": null,
            "flex": null,
            "flex_flow": null,
            "grid_area": null,
            "grid_auto_columns": null,
            "grid_auto_flow": null,
            "grid_auto_rows": null,
            "grid_column": null,
            "grid_gap": null,
            "grid_row": null,
            "grid_template_areas": null,
            "grid_template_columns": null,
            "grid_template_rows": null,
            "height": null,
            "justify_content": null,
            "justify_items": null,
            "left": null,
            "margin": null,
            "max_height": null,
            "max_width": null,
            "min_height": null,
            "min_width": null,
            "object_fit": null,
            "object_position": null,
            "order": null,
            "overflow": null,
            "overflow_x": null,
            "overflow_y": null,
            "padding": null,
            "right": null,
            "top": null,
            "visibility": null,
            "width": null
          }
        },
        "312f09977df84405948a44b26162272c": {
          "model_module": "@jupyter-widgets/base",
          "model_module_version": "1.2.0",
          "model_name": "LayoutModel",
          "state": {
            "_model_module": "@jupyter-widgets/base",
            "_model_module_version": "1.2.0",
            "_model_name": "LayoutModel",
            "_view_count": null,
            "_view_module": "@jupyter-widgets/base",
            "_view_module_version": "1.2.0",
            "_view_name": "LayoutView",
            "align_content": null,
            "align_items": null,
            "align_self": null,
            "border": null,
            "bottom": null,
            "display": null,
            "flex": null,
            "flex_flow": null,
            "grid_area": null,
            "grid_auto_columns": null,
            "grid_auto_flow": null,
            "grid_auto_rows": null,
            "grid_column": null,
            "grid_gap": null,
            "grid_row": null,
            "grid_template_areas": null,
            "grid_template_columns": null,
            "grid_template_rows": null,
            "height": null,
            "justify_content": null,
            "justify_items": null,
            "left": null,
            "margin": null,
            "max_height": null,
            "max_width": null,
            "min_height": null,
            "min_width": null,
            "object_fit": null,
            "object_position": null,
            "order": null,
            "overflow": null,
            "overflow_x": null,
            "overflow_y": null,
            "padding": null,
            "right": null,
            "top": null,
            "visibility": null,
            "width": null
          }
        },
        "37f847eb0bd64ec3a60f121c546f82c2": {
          "model_module": "@jupyter-widgets/controls",
          "model_module_version": "1.5.0",
          "model_name": "HTMLModel",
          "state": {
            "_dom_classes": [],
            "_model_module": "@jupyter-widgets/controls",
            "_model_module_version": "1.5.0",
            "_model_name": "HTMLModel",
            "_view_count": null,
            "_view_module": "@jupyter-widgets/controls",
            "_view_module_version": "1.5.0",
            "_view_name": "HTMLView",
            "description": "",
            "description_tooltip": null,
            "layout": "IPY_MODEL_0d4504aa444646dd935de6b811edeeba",
            "placeholder": "​",
            "style": "IPY_MODEL_12ea49dfc06a431ba6b40250066a97c9",
            "value": " 439M/439M [00:02&lt;00:00, 175MB/s]"
          }
        },
        "384efe0ac8de4e18b7a3aa944a68065d": {
          "model_module": "@jupyter-widgets/controls",
          "model_module_version": "1.5.0",
          "model_name": "FloatProgressModel",
          "state": {
            "_dom_classes": [],
            "_model_module": "@jupyter-widgets/controls",
            "_model_module_version": "1.5.0",
            "_model_name": "FloatProgressModel",
            "_view_count": null,
            "_view_module": "@jupyter-widgets/controls",
            "_view_module_version": "1.5.0",
            "_view_name": "ProgressView",
            "bar_style": "success",
            "description": "",
            "description_tooltip": null,
            "layout": "IPY_MODEL_43c2e18f846247a99dd016686bdd2cb2",
            "max": 533,
            "min": 0,
            "orientation": "horizontal",
            "style": "IPY_MODEL_0e2fbf047fd2444ba6d6aafd10c04bc1",
            "value": 533
          }
        },
        "3e3f34df677547db97d4d12bd2616e33": {
          "model_module": "@jupyter-widgets/base",
          "model_module_version": "1.2.0",
          "model_name": "LayoutModel",
          "state": {
            "_model_module": "@jupyter-widgets/base",
            "_model_module_version": "1.2.0",
            "_model_name": "LayoutModel",
            "_view_count": null,
            "_view_module": "@jupyter-widgets/base",
            "_view_module_version": "1.2.0",
            "_view_name": "LayoutView",
            "align_content": null,
            "align_items": null,
            "align_self": null,
            "border": null,
            "bottom": null,
            "display": null,
            "flex": null,
            "flex_flow": null,
            "grid_area": null,
            "grid_auto_columns": null,
            "grid_auto_flow": null,
            "grid_auto_rows": null,
            "grid_column": null,
            "grid_gap": null,
            "grid_row": null,
            "grid_template_areas": null,
            "grid_template_columns": null,
            "grid_template_rows": null,
            "height": null,
            "justify_content": null,
            "justify_items": null,
            "left": null,
            "margin": null,
            "max_height": null,
            "max_width": null,
            "min_height": null,
            "min_width": null,
            "object_fit": null,
            "object_position": null,
            "order": null,
            "overflow": null,
            "overflow_x": null,
            "overflow_y": null,
            "padding": null,
            "right": null,
            "top": null,
            "visibility": null,
            "width": null
          }
        },
        "43c2e18f846247a99dd016686bdd2cb2": {
          "model_module": "@jupyter-widgets/base",
          "model_module_version": "1.2.0",
          "model_name": "LayoutModel",
          "state": {
            "_model_module": "@jupyter-widgets/base",
            "_model_module_version": "1.2.0",
            "_model_name": "LayoutModel",
            "_view_count": null,
            "_view_module": "@jupyter-widgets/base",
            "_view_module_version": "1.2.0",
            "_view_name": "LayoutView",
            "align_content": null,
            "align_items": null,
            "align_self": null,
            "border": null,
            "bottom": null,
            "display": null,
            "flex": null,
            "flex_flow": null,
            "grid_area": null,
            "grid_auto_columns": null,
            "grid_auto_flow": null,
            "grid_auto_rows": null,
            "grid_column": null,
            "grid_gap": null,
            "grid_row": null,
            "grid_template_areas": null,
            "grid_template_columns": null,
            "grid_template_rows": null,
            "height": null,
            "justify_content": null,
            "justify_items": null,
            "left": null,
            "margin": null,
            "max_height": null,
            "max_width": null,
            "min_height": null,
            "min_width": null,
            "object_fit": null,
            "object_position": null,
            "order": null,
            "overflow": null,
            "overflow_x": null,
            "overflow_y": null,
            "padding": null,
            "right": null,
            "top": null,
            "visibility": null,
            "width": null
          }
        },
        "58c88a105ed4423fb8c34a8663121fa3": {
          "model_module": "@jupyter-widgets/base",
          "model_module_version": "1.2.0",
          "model_name": "LayoutModel",
          "state": {
            "_model_module": "@jupyter-widgets/base",
            "_model_module_version": "1.2.0",
            "_model_name": "LayoutModel",
            "_view_count": null,
            "_view_module": "@jupyter-widgets/base",
            "_view_module_version": "1.2.0",
            "_view_name": "LayoutView",
            "align_content": null,
            "align_items": null,
            "align_self": null,
            "border": null,
            "bottom": null,
            "display": null,
            "flex": null,
            "flex_flow": null,
            "grid_area": null,
            "grid_auto_columns": null,
            "grid_auto_flow": null,
            "grid_auto_rows": null,
            "grid_column": null,
            "grid_gap": null,
            "grid_row": null,
            "grid_template_areas": null,
            "grid_template_columns": null,
            "grid_template_rows": null,
            "height": null,
            "justify_content": null,
            "justify_items": null,
            "left": null,
            "margin": null,
            "max_height": null,
            "max_width": null,
            "min_height": null,
            "min_width": null,
            "object_fit": null,
            "object_position": null,
            "order": null,
            "overflow": null,
            "overflow_x": null,
            "overflow_y": null,
            "padding": null,
            "right": null,
            "top": null,
            "visibility": null,
            "width": null
          }
        },
        "6b414c59ef564cdfade5ed54a37863c0": {
          "model_module": "@jupyter-widgets/controls",
          "model_module_version": "1.5.0",
          "model_name": "FloatProgressModel",
          "state": {
            "_dom_classes": [],
            "_model_module": "@jupyter-widgets/controls",
            "_model_module_version": "1.5.0",
            "_model_name": "FloatProgressModel",
            "_view_count": null,
            "_view_module": "@jupyter-widgets/controls",
            "_view_module_version": "1.5.0",
            "_view_name": "ProgressView",
            "bar_style": "success",
            "description": "",
            "description_tooltip": null,
            "layout": "IPY_MODEL_58c88a105ed4423fb8c34a8663121fa3",
            "max": 439044180,
            "min": 0,
            "orientation": "horizontal",
            "style": "IPY_MODEL_131111b6ccae4ac6aa854657c2e1d8a3",
            "value": 439044180
          }
        },
        "83fb3a449a604c2ea8c959803f3523aa": {
          "model_module": "@jupyter-widgets/controls",
          "model_module_version": "1.5.0",
          "model_name": "DescriptionStyleModel",
          "state": {
            "_model_module": "@jupyter-widgets/controls",
            "_model_module_version": "1.5.0",
            "_model_name": "DescriptionStyleModel",
            "_view_count": null,
            "_view_module": "@jupyter-widgets/base",
            "_view_module_version": "1.2.0",
            "_view_name": "StyleView",
            "description_width": ""
          }
        },
        "89078e71c9d9417fbe623527c3f85152": {
          "model_module": "@jupyter-widgets/controls",
          "model_module_version": "1.5.0",
          "model_name": "FloatProgressModel",
          "state": {
            "_dom_classes": [],
            "_model_module": "@jupyter-widgets/controls",
            "_model_module_version": "1.5.0",
            "_model_name": "FloatProgressModel",
            "_view_count": null,
            "_view_module": "@jupyter-widgets/controls",
            "_view_module_version": "1.5.0",
            "_view_name": "ProgressView",
            "bar_style": "success",
            "description": "",
            "description_tooltip": null,
            "layout": "IPY_MODEL_bcb02c8287f944b7af4579670ced217a",
            "max": 226122,
            "min": 0,
            "orientation": "horizontal",
            "style": "IPY_MODEL_ce33ebece1644733b617dcdcb58cb3c5",
            "value": 226122
          }
        },
        "8ff977d185e044eb9f1662226fe49440": {
          "model_module": "@jupyter-widgets/base",
          "model_module_version": "1.2.0",
          "model_name": "LayoutModel",
          "state": {
            "_model_module": "@jupyter-widgets/base",
            "_model_module_version": "1.2.0",
            "_model_name": "LayoutModel",
            "_view_count": null,
            "_view_module": "@jupyter-widgets/base",
            "_view_module_version": "1.2.0",
            "_view_name": "LayoutView",
            "align_content": null,
            "align_items": null,
            "align_self": null,
            "border": null,
            "bottom": null,
            "display": null,
            "flex": null,
            "flex_flow": null,
            "grid_area": null,
            "grid_auto_columns": null,
            "grid_auto_flow": null,
            "grid_auto_rows": null,
            "grid_column": null,
            "grid_gap": null,
            "grid_row": null,
            "grid_template_areas": null,
            "grid_template_columns": null,
            "grid_template_rows": null,
            "height": null,
            "justify_content": null,
            "justify_items": null,
            "left": null,
            "margin": null,
            "max_height": null,
            "max_width": null,
            "min_height": null,
            "min_width": null,
            "object_fit": null,
            "object_position": null,
            "order": null,
            "overflow": null,
            "overflow_x": null,
            "overflow_y": null,
            "padding": null,
            "right": null,
            "top": null,
            "visibility": null,
            "width": null
          }
        },
        "9647ba73fb0e4026a51a6ecc1a057537": {
          "model_module": "@jupyter-widgets/base",
          "model_module_version": "1.2.0",
          "model_name": "LayoutModel",
          "state": {
            "_model_module": "@jupyter-widgets/base",
            "_model_module_version": "1.2.0",
            "_model_name": "LayoutModel",
            "_view_count": null,
            "_view_module": "@jupyter-widgets/base",
            "_view_module_version": "1.2.0",
            "_view_name": "LayoutView",
            "align_content": null,
            "align_items": null,
            "align_self": null,
            "border": null,
            "bottom": null,
            "display": null,
            "flex": null,
            "flex_flow": null,
            "grid_area": null,
            "grid_auto_columns": null,
            "grid_auto_flow": null,
            "grid_auto_rows": null,
            "grid_column": null,
            "grid_gap": null,
            "grid_row": null,
            "grid_template_areas": null,
            "grid_template_columns": null,
            "grid_template_rows": null,
            "height": null,
            "justify_content": null,
            "justify_items": null,
            "left": null,
            "margin": null,
            "max_height": null,
            "max_width": null,
            "min_height": null,
            "min_width": null,
            "object_fit": null,
            "object_position": null,
            "order": null,
            "overflow": null,
            "overflow_x": null,
            "overflow_y": null,
            "padding": null,
            "right": null,
            "top": null,
            "visibility": null,
            "width": null
          }
        },
        "9dcfa06792d34f7692bb812f5d3307db": {
          "model_module": "@jupyter-widgets/controls",
          "model_module_version": "1.5.0",
          "model_name": "HBoxModel",
          "state": {
            "_dom_classes": [],
            "_model_module": "@jupyter-widgets/controls",
            "_model_module_version": "1.5.0",
            "_model_name": "HBoxModel",
            "_view_count": null,
            "_view_module": "@jupyter-widgets/controls",
            "_view_module_version": "1.5.0",
            "_view_name": "HBoxView",
            "box_style": "",
            "children": [
              "IPY_MODEL_c743545e7a794152b98f2b5a8973e0a4",
              "IPY_MODEL_6b414c59ef564cdfade5ed54a37863c0",
              "IPY_MODEL_c446e3d5001f40da8b2ecf5868229450"
            ],
            "layout": "IPY_MODEL_df899564e05d4c0c969ec926eb3139b6"
          }
        },
        "a5e2f3be41ba4103972a38f6c7ce3f59": {
          "model_module": "@jupyter-widgets/controls",
          "model_module_version": "1.5.0",
          "model_name": "FloatProgressModel",
          "state": {
            "_dom_classes": [],
            "_model_module": "@jupyter-widgets/controls",
            "_model_module_version": "1.5.0",
            "_model_name": "FloatProgressModel",
            "_view_count": null,
            "_view_module": "@jupyter-widgets/controls",
            "_view_module_version": "1.5.0",
            "_view_name": "ProgressView",
            "bar_style": "success",
            "description": "",
            "description_tooltip": null,
            "layout": "IPY_MODEL_305d843dda954a568adb374765f33e64",
            "max": 439101405,
            "min": 0,
            "orientation": "horizontal",
            "style": "IPY_MODEL_b66c702e737f4d8ba325af68f4feb60d",
            "value": 439101405
          }
        },
        "a9b30577ff8844f49876c5dee6e4fbbc": {
          "model_module": "@jupyter-widgets/controls",
          "model_module_version": "1.5.0",
          "model_name": "DescriptionStyleModel",
          "state": {
            "_model_module": "@jupyter-widgets/controls",
            "_model_module_version": "1.5.0",
            "_model_name": "DescriptionStyleModel",
            "_view_count": null,
            "_view_module": "@jupyter-widgets/base",
            "_view_module_version": "1.2.0",
            "_view_name": "StyleView",
            "description_width": ""
          }
        },
        "b10030df59c245ee9f93942b5c6cec17": {
          "model_module": "@jupyter-widgets/controls",
          "model_module_version": "1.5.0",
          "model_name": "HTMLModel",
          "state": {
            "_dom_classes": [],
            "_model_module": "@jupyter-widgets/controls",
            "_model_module_version": "1.5.0",
            "_model_name": "HTMLModel",
            "_view_count": null,
            "_view_module": "@jupyter-widgets/controls",
            "_view_module_version": "1.5.0",
            "_view_name": "HTMLView",
            "description": "",
            "description_tooltip": null,
            "layout": "IPY_MODEL_d444a0b7bf1949fa85a31187b7c15481",
            "placeholder": "​",
            "style": "IPY_MODEL_c5a6111a7aa849b18075f3d8de64760d",
            "value": "vocab.txt: 100%"
          }
        },
        "b1b74bdc3d27470fb6f7af342fd68b89": {
          "model_module": "@jupyter-widgets/controls",
          "model_module_version": "1.5.0",
          "model_name": "HBoxModel",
          "state": {
            "_dom_classes": [],
            "_model_module": "@jupyter-widgets/controls",
            "_model_module_version": "1.5.0",
            "_model_name": "HBoxModel",
            "_view_count": null,
            "_view_module": "@jupyter-widgets/controls",
            "_view_module_version": "1.5.0",
            "_view_name": "HBoxView",
            "box_style": "",
            "children": [
              "IPY_MODEL_b10030df59c245ee9f93942b5c6cec17",
              "IPY_MODEL_89078e71c9d9417fbe623527c3f85152",
              "IPY_MODEL_2de332926ea546bba2232a3cec2814d6"
            ],
            "layout": "IPY_MODEL_e89093ef68704eabab26a9f044833d30"
          }
        },
        "b66c702e737f4d8ba325af68f4feb60d": {
          "model_module": "@jupyter-widgets/controls",
          "model_module_version": "1.5.0",
          "model_name": "ProgressStyleModel",
          "state": {
            "_model_module": "@jupyter-widgets/controls",
            "_model_module_version": "1.5.0",
            "_model_name": "ProgressStyleModel",
            "_view_count": null,
            "_view_module": "@jupyter-widgets/base",
            "_view_module_version": "1.2.0",
            "_view_name": "StyleView",
            "bar_color": null,
            "description_width": ""
          }
        },
        "bcb02c8287f944b7af4579670ced217a": {
          "model_module": "@jupyter-widgets/base",
          "model_module_version": "1.2.0",
          "model_name": "LayoutModel",
          "state": {
            "_model_module": "@jupyter-widgets/base",
            "_model_module_version": "1.2.0",
            "_model_name": "LayoutModel",
            "_view_count": null,
            "_view_module": "@jupyter-widgets/base",
            "_view_module_version": "1.2.0",
            "_view_name": "LayoutView",
            "align_content": null,
            "align_items": null,
            "align_self": null,
            "border": null,
            "bottom": null,
            "display": null,
            "flex": null,
            "flex_flow": null,
            "grid_area": null,
            "grid_auto_columns": null,
            "grid_auto_flow": null,
            "grid_auto_rows": null,
            "grid_column": null,
            "grid_gap": null,
            "grid_row": null,
            "grid_template_areas": null,
            "grid_template_columns": null,
            "grid_template_rows": null,
            "height": null,
            "justify_content": null,
            "justify_items": null,
            "left": null,
            "margin": null,
            "max_height": null,
            "max_width": null,
            "min_height": null,
            "min_width": null,
            "object_fit": null,
            "object_position": null,
            "order": null,
            "overflow": null,
            "overflow_x": null,
            "overflow_y": null,
            "padding": null,
            "right": null,
            "top": null,
            "visibility": null,
            "width": null
          }
        },
        "c0518428be1446c09374906751dee668": {
          "model_module": "@jupyter-widgets/controls",
          "model_module_version": "1.5.0",
          "model_name": "HTMLModel",
          "state": {
            "_dom_classes": [],
            "_model_module": "@jupyter-widgets/controls",
            "_model_module_version": "1.5.0",
            "_model_name": "HTMLModel",
            "_view_count": null,
            "_view_module": "@jupyter-widgets/controls",
            "_view_module_version": "1.5.0",
            "_view_name": "HTMLView",
            "description": "",
            "description_tooltip": null,
            "layout": "IPY_MODEL_312f09977df84405948a44b26162272c",
            "placeholder": "​",
            "style": "IPY_MODEL_d486b54166e448438f6262552a39437f",
            "value": " 533/533 [00:00&lt;00:00, 29.2kB/s]"
          }
        },
        "c446e3d5001f40da8b2ecf5868229450": {
          "model_module": "@jupyter-widgets/controls",
          "model_module_version": "1.5.0",
          "model_name": "HTMLModel",
          "state": {
            "_dom_classes": [],
            "_model_module": "@jupyter-widgets/controls",
            "_model_module_version": "1.5.0",
            "_model_name": "HTMLModel",
            "_view_count": null,
            "_view_module": "@jupyter-widgets/controls",
            "_view_module_version": "1.5.0",
            "_view_name": "HTMLView",
            "description": "",
            "description_tooltip": null,
            "layout": "IPY_MODEL_9647ba73fb0e4026a51a6ecc1a057537",
            "placeholder": "​",
            "style": "IPY_MODEL_a9b30577ff8844f49876c5dee6e4fbbc",
            "value": " 439M/439M [00:04&lt;00:00, 121MB/s]"
          }
        },
        "c5a6111a7aa849b18075f3d8de64760d": {
          "model_module": "@jupyter-widgets/controls",
          "model_module_version": "1.5.0",
          "model_name": "DescriptionStyleModel",
          "state": {
            "_model_module": "@jupyter-widgets/controls",
            "_model_module_version": "1.5.0",
            "_model_name": "DescriptionStyleModel",
            "_view_count": null,
            "_view_module": "@jupyter-widgets/base",
            "_view_module_version": "1.2.0",
            "_view_name": "StyleView",
            "description_width": ""
          }
        },
        "c743545e7a794152b98f2b5a8973e0a4": {
          "model_module": "@jupyter-widgets/controls",
          "model_module_version": "1.5.0",
          "model_name": "HTMLModel",
          "state": {
            "_dom_classes": [],
            "_model_module": "@jupyter-widgets/controls",
            "_model_module_version": "1.5.0",
            "_model_name": "HTMLModel",
            "_view_count": null,
            "_view_module": "@jupyter-widgets/controls",
            "_view_module_version": "1.5.0",
            "_view_name": "HTMLView",
            "description": "",
            "description_tooltip": null,
            "layout": "IPY_MODEL_0cacfa975ca24088953f27449c8cc154",
            "placeholder": "​",
            "style": "IPY_MODEL_c97525b09b194cf2be257f417a0140e0",
            "value": "model.safetensors: 100%"
          }
        },
        "c97525b09b194cf2be257f417a0140e0": {
          "model_module": "@jupyter-widgets/controls",
          "model_module_version": "1.5.0",
          "model_name": "DescriptionStyleModel",
          "state": {
            "_model_module": "@jupyter-widgets/controls",
            "_model_module_version": "1.5.0",
            "_model_name": "DescriptionStyleModel",
            "_view_count": null,
            "_view_module": "@jupyter-widgets/base",
            "_view_module_version": "1.2.0",
            "_view_name": "StyleView",
            "description_width": ""
          }
        },
        "cd7031a2c5b041d9b82c6a98b9f34864": {
          "model_module": "@jupyter-widgets/controls",
          "model_module_version": "1.5.0",
          "model_name": "HBoxModel",
          "state": {
            "_dom_classes": [],
            "_model_module": "@jupyter-widgets/controls",
            "_model_module_version": "1.5.0",
            "_model_name": "HBoxModel",
            "_view_count": null,
            "_view_module": "@jupyter-widgets/controls",
            "_view_module_version": "1.5.0",
            "_view_name": "HBoxView",
            "box_style": "",
            "children": [
              "IPY_MODEL_0d07eb7e9a0447b1ae2e013b96f67489",
              "IPY_MODEL_a5e2f3be41ba4103972a38f6c7ce3f59",
              "IPY_MODEL_37f847eb0bd64ec3a60f121c546f82c2"
            ],
            "layout": "IPY_MODEL_1b2df519d82146a09c95244e56c6d91a"
          }
        },
        "ce33ebece1644733b617dcdcb58cb3c5": {
          "model_module": "@jupyter-widgets/controls",
          "model_module_version": "1.5.0",
          "model_name": "ProgressStyleModel",
          "state": {
            "_model_module": "@jupyter-widgets/controls",
            "_model_module_version": "1.5.0",
            "_model_name": "ProgressStyleModel",
            "_view_count": null,
            "_view_module": "@jupyter-widgets/base",
            "_view_module_version": "1.2.0",
            "_view_name": "StyleView",
            "bar_color": null,
            "description_width": ""
          }
        },
        "d444a0b7bf1949fa85a31187b7c15481": {
          "model_module": "@jupyter-widgets/base",
          "model_module_version": "1.2.0",
          "model_name": "LayoutModel",
          "state": {
            "_model_module": "@jupyter-widgets/base",
            "_model_module_version": "1.2.0",
            "_model_name": "LayoutModel",
            "_view_count": null,
            "_view_module": "@jupyter-widgets/base",
            "_view_module_version": "1.2.0",
            "_view_name": "LayoutView",
            "align_content": null,
            "align_items": null,
            "align_self": null,
            "border": null,
            "bottom": null,
            "display": null,
            "flex": null,
            "flex_flow": null,
            "grid_area": null,
            "grid_auto_columns": null,
            "grid_auto_flow": null,
            "grid_auto_rows": null,
            "grid_column": null,
            "grid_gap": null,
            "grid_row": null,
            "grid_template_areas": null,
            "grid_template_columns": null,
            "grid_template_rows": null,
            "height": null,
            "justify_content": null,
            "justify_items": null,
            "left": null,
            "margin": null,
            "max_height": null,
            "max_width": null,
            "min_height": null,
            "min_width": null,
            "object_fit": null,
            "object_position": null,
            "order": null,
            "overflow": null,
            "overflow_x": null,
            "overflow_y": null,
            "padding": null,
            "right": null,
            "top": null,
            "visibility": null,
            "width": null
          }
        },
        "d486b54166e448438f6262552a39437f": {
          "model_module": "@jupyter-widgets/controls",
          "model_module_version": "1.5.0",
          "model_name": "DescriptionStyleModel",
          "state": {
            "_model_module": "@jupyter-widgets/controls",
            "_model_module_version": "1.5.0",
            "_model_name": "DescriptionStyleModel",
            "_view_count": null,
            "_view_module": "@jupyter-widgets/base",
            "_view_module_version": "1.2.0",
            "_view_name": "StyleView",
            "description_width": ""
          }
        },
        "df899564e05d4c0c969ec926eb3139b6": {
          "model_module": "@jupyter-widgets/base",
          "model_module_version": "1.2.0",
          "model_name": "LayoutModel",
          "state": {
            "_model_module": "@jupyter-widgets/base",
            "_model_module_version": "1.2.0",
            "_model_name": "LayoutModel",
            "_view_count": null,
            "_view_module": "@jupyter-widgets/base",
            "_view_module_version": "1.2.0",
            "_view_name": "LayoutView",
            "align_content": null,
            "align_items": null,
            "align_self": null,
            "border": null,
            "bottom": null,
            "display": null,
            "flex": null,
            "flex_flow": null,
            "grid_area": null,
            "grid_auto_columns": null,
            "grid_auto_flow": null,
            "grid_auto_rows": null,
            "grid_column": null,
            "grid_gap": null,
            "grid_row": null,
            "grid_template_areas": null,
            "grid_template_columns": null,
            "grid_template_rows": null,
            "height": null,
            "justify_content": null,
            "justify_items": null,
            "left": null,
            "margin": null,
            "max_height": null,
            "max_width": null,
            "min_height": null,
            "min_width": null,
            "object_fit": null,
            "object_position": null,
            "order": null,
            "overflow": null,
            "overflow_x": null,
            "overflow_y": null,
            "padding": null,
            "right": null,
            "top": null,
            "visibility": null,
            "width": null
          }
        },
        "e89093ef68704eabab26a9f044833d30": {
          "model_module": "@jupyter-widgets/base",
          "model_module_version": "1.2.0",
          "model_name": "LayoutModel",
          "state": {
            "_model_module": "@jupyter-widgets/base",
            "_model_module_version": "1.2.0",
            "_model_name": "LayoutModel",
            "_view_count": null,
            "_view_module": "@jupyter-widgets/base",
            "_view_module_version": "1.2.0",
            "_view_name": "LayoutView",
            "align_content": null,
            "align_items": null,
            "align_self": null,
            "border": null,
            "bottom": null,
            "display": null,
            "flex": null,
            "flex_flow": null,
            "grid_area": null,
            "grid_auto_columns": null,
            "grid_auto_flow": null,
            "grid_auto_rows": null,
            "grid_column": null,
            "grid_gap": null,
            "grid_row": null,
            "grid_template_areas": null,
            "grid_template_columns": null,
            "grid_template_rows": null,
            "height": null,
            "justify_content": null,
            "justify_items": null,
            "left": null,
            "margin": null,
            "max_height": null,
            "max_width": null,
            "min_height": null,
            "min_width": null,
            "object_fit": null,
            "object_position": null,
            "order": null,
            "overflow": null,
            "overflow_x": null,
            "overflow_y": null,
            "padding": null,
            "right": null,
            "top": null,
            "visibility": null,
            "width": null
          }
        },
        "ece37d07f42f48549a3e78677cefafdb": {
          "model_module": "@jupyter-widgets/controls",
          "model_module_version": "1.5.0",
          "model_name": "HBoxModel",
          "state": {
            "_dom_classes": [],
            "_model_module": "@jupyter-widgets/controls",
            "_model_module_version": "1.5.0",
            "_model_name": "HBoxModel",
            "_view_count": null,
            "_view_module": "@jupyter-widgets/controls",
            "_view_module_version": "1.5.0",
            "_view_name": "HBoxView",
            "box_style": "",
            "children": [
              "IPY_MODEL_f42f88922965439ea110ffe0ee92b4a1",
              "IPY_MODEL_384efe0ac8de4e18b7a3aa944a68065d",
              "IPY_MODEL_c0518428be1446c09374906751dee668"
            ],
            "layout": "IPY_MODEL_2bfc3733f7e1409aa4a2e24dde57d475"
          }
        },
        "f40bf7196559442883720c371f564f70": {
          "model_module": "@jupyter-widgets/controls",
          "model_module_version": "1.5.0",
          "model_name": "DescriptionStyleModel",
          "state": {
            "_model_module": "@jupyter-widgets/controls",
            "_model_module_version": "1.5.0",
            "_model_name": "DescriptionStyleModel",
            "_view_count": null,
            "_view_module": "@jupyter-widgets/base",
            "_view_module_version": "1.2.0",
            "_view_name": "StyleView",
            "description_width": ""
          }
        },
        "f42f88922965439ea110ffe0ee92b4a1": {
          "model_module": "@jupyter-widgets/controls",
          "model_module_version": "1.5.0",
          "model_name": "HTMLModel",
          "state": {
            "_dom_classes": [],
            "_model_module": "@jupyter-widgets/controls",
            "_model_module_version": "1.5.0",
            "_model_name": "HTMLModel",
            "_view_count": null,
            "_view_module": "@jupyter-widgets/controls",
            "_view_module_version": "1.5.0",
            "_view_name": "HTMLView",
            "description": "",
            "description_tooltip": null,
            "layout": "IPY_MODEL_135fa4a9fca24f85992af547756a9b73",
            "placeholder": "​",
            "style": "IPY_MODEL_f8ce9b4b816542999f125f12a97d2943",
            "value": "config.json: 100%"
          }
        },
        "f8ce9b4b816542999f125f12a97d2943": {
          "model_module": "@jupyter-widgets/controls",
          "model_module_version": "1.5.0",
          "model_name": "DescriptionStyleModel",
          "state": {
            "_model_module": "@jupyter-widgets/controls",
            "_model_module_version": "1.5.0",
            "_model_name": "DescriptionStyleModel",
            "_view_count": null,
            "_view_module": "@jupyter-widgets/base",
            "_view_module_version": "1.2.0",
            "_view_name": "StyleView",
            "description_width": ""
          }
        }
      }
    }
  },
  "nbformat": 4,
  "nbformat_minor": 0
}
